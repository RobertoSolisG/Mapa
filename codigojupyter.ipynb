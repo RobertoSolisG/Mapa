{
 "cells": [
  {
   "cell_type": "code",
   "execution_count": 1,
   "id": "252f5318-f52f-470f-9471-28de813f94e6",
   "metadata": {
    "tags": []
   },
   "outputs": [],
   "source": [
    "import geopandas as gpd"
   ]
  },
  {
   "cell_type": "code",
   "execution_count": 2,
   "id": "6c298f7d-fc40-4409-a367-6d45093f5af2",
   "metadata": {
    "tags": []
   },
   "outputs": [],
   "source": [
    "import matplotlib.pyplot as plt"
   ]
  },
  {
   "cell_type": "code",
   "execution_count": 3,
   "id": "a88f48b4-ee27-481d-9a1f-b4cd3d10dc7e",
   "metadata": {
    "tags": []
   },
   "outputs": [],
   "source": [
    "natalidad = \"./media/media/Ent_01.geojson\""
   ]
  },
  {
   "cell_type": "code",
   "execution_count": 4,
   "id": "a3c79a95-c1af-4282-b4ee-dbcad9b50374",
   "metadata": {
    "tags": []
   },
   "outputs": [],
   "source": [
    "map_data = gpd.read_file(natalidad)"
   ]
  },
  {
   "cell_type": "code",
   "execution_count": 5,
   "id": "7cc8e843-4b58-4b43-821e-715e6e9fe3e8",
   "metadata": {
    "tags": []
   },
   "outputs": [
    {
     "data": {
      "text/html": [
       "<div>\n",
       "<style scoped>\n",
       "    .dataframe tbody tr th:only-of-type {\n",
       "        vertical-align: middle;\n",
       "    }\n",
       "\n",
       "    .dataframe tbody tr th {\n",
       "        vertical-align: top;\n",
       "    }\n",
       "\n",
       "    .dataframe thead th {\n",
       "        text-align: right;\n",
       "    }\n",
       "</style>\n",
       "<table border=\"1\" class=\"dataframe\">\n",
       "  <thead>\n",
       "    <tr style=\"text-align: right;\">\n",
       "      <th></th>\n",
       "      <th>geo_point_2d</th>\n",
       "      <th>year</th>\n",
       "      <th>sta_code</th>\n",
       "      <th>sta_name</th>\n",
       "      <th>mun_code</th>\n",
       "      <th>mun_name</th>\n",
       "      <th>mun_area_code</th>\n",
       "      <th>mun_type</th>\n",
       "      <th>geometry</th>\n",
       "    </tr>\n",
       "  </thead>\n",
       "  <tbody>\n",
       "    <tr>\n",
       "      <th>0</th>\n",
       "      <td>{'lon': -102.04563758129586, 'lat': 22.1265069...</td>\n",
       "      <td>2022</td>\n",
       "      <td>[01]</td>\n",
       "      <td>[Aguascalientes]</td>\n",
       "      <td>[01002]</td>\n",
       "      <td>[Asientos]</td>\n",
       "      <td>MEX</td>\n",
       "      <td>municipio</td>\n",
       "      <td>POLYGON ((-102.04348 22.29392, -102.04407 22.2...</td>\n",
       "    </tr>\n",
       "    <tr>\n",
       "      <th>1</th>\n",
       "      <td>{'lon': -102.22901726899903, 'lat': 22.0330721...</td>\n",
       "      <td>2022</td>\n",
       "      <td>[01]</td>\n",
       "      <td>[Aguascalientes]</td>\n",
       "      <td>[01011]</td>\n",
       "      <td>[San Francisco de los Romo]</td>\n",
       "      <td>MEX</td>\n",
       "      <td>municipio</td>\n",
       "      <td>POLYGON ((-102.14088 22.07534, -102.14368 22.0...</td>\n",
       "    </tr>\n",
       "    <tr>\n",
       "      <th>2</th>\n",
       "      <td>{'lon': -102.44564622304819, 'lat': 21.9321191...</td>\n",
       "      <td>2022</td>\n",
       "      <td>[01]</td>\n",
       "      <td>[Aguascalientes]</td>\n",
       "      <td>[01005]</td>\n",
       "      <td>[Jesús María]</td>\n",
       "      <td>MEX</td>\n",
       "      <td>municipio</td>\n",
       "      <td>POLYGON ((-102.31034 22.03716, -102.31938 22.0...</td>\n",
       "    </tr>\n",
       "    <tr>\n",
       "      <th>3</th>\n",
       "      <td>{'lon': -102.7049048116927, 'lat': 21.90069519...</td>\n",
       "      <td>2022</td>\n",
       "      <td>[01]</td>\n",
       "      <td>[Aguascalientes]</td>\n",
       "      <td>[01003]</td>\n",
       "      <td>[Calvillo]</td>\n",
       "      <td>MEX</td>\n",
       "      <td>municipio</td>\n",
       "      <td>POLYGON ((-102.57625 21.96778, -102.58183 21.9...</td>\n",
       "    </tr>\n",
       "    <tr>\n",
       "      <th>4</th>\n",
       "      <td>{'lon': -102.19212909312763, 'lat': 22.2369720...</td>\n",
       "      <td>2022</td>\n",
       "      <td>[01]</td>\n",
       "      <td>[Aguascalientes]</td>\n",
       "      <td>[01009]</td>\n",
       "      <td>[Tepezalá]</td>\n",
       "      <td>MEX</td>\n",
       "      <td>municipio</td>\n",
       "      <td>POLYGON ((-102.16213 22.34851, -102.18072 22.3...</td>\n",
       "    </tr>\n",
       "  </tbody>\n",
       "</table>\n",
       "</div>"
      ],
      "text/plain": [
       "                                        geo_point_2d  year sta_code  \\\n",
       "0  {'lon': -102.04563758129586, 'lat': 22.1265069...  2022     [01]   \n",
       "1  {'lon': -102.22901726899903, 'lat': 22.0330721...  2022     [01]   \n",
       "2  {'lon': -102.44564622304819, 'lat': 21.9321191...  2022     [01]   \n",
       "3  {'lon': -102.7049048116927, 'lat': 21.90069519...  2022     [01]   \n",
       "4  {'lon': -102.19212909312763, 'lat': 22.2369720...  2022     [01]   \n",
       "\n",
       "           sta_name mun_code                     mun_name mun_area_code  \\\n",
       "0  [Aguascalientes]  [01002]                   [Asientos]           MEX   \n",
       "1  [Aguascalientes]  [01011]  [San Francisco de los Romo]           MEX   \n",
       "2  [Aguascalientes]  [01005]                [Jesús María]           MEX   \n",
       "3  [Aguascalientes]  [01003]                   [Calvillo]           MEX   \n",
       "4  [Aguascalientes]  [01009]                   [Tepezalá]           MEX   \n",
       "\n",
       "    mun_type                                           geometry  \n",
       "0  municipio  POLYGON ((-102.04348 22.29392, -102.04407 22.2...  \n",
       "1  municipio  POLYGON ((-102.14088 22.07534, -102.14368 22.0...  \n",
       "2  municipio  POLYGON ((-102.31034 22.03716, -102.31938 22.0...  \n",
       "3  municipio  POLYGON ((-102.57625 21.96778, -102.58183 21.9...  \n",
       "4  municipio  POLYGON ((-102.16213 22.34851, -102.18072 22.3...  "
      ]
     },
     "execution_count": 5,
     "metadata": {},
     "output_type": "execute_result"
    }
   ],
   "source": [
    "map_data.head()"
   ]
  },
  {
   "cell_type": "code",
   "execution_count": 6,
   "id": "57759aed-b6e9-4069-9bfe-a50acb5cdf86",
   "metadata": {
    "tags": []
   },
   "outputs": [],
   "source": [
    "import folium"
   ]
  },
  {
   "cell_type": "code",
   "execution_count": 7,
   "id": "2b73c79b-045a-46be-b35e-da1892980db1",
   "metadata": {
    "tags": []
   },
   "outputs": [],
   "source": [
    "mapObj = folium.Map(location=[24.2170111233401, 81.0791015625000],\n",
    "                    zoom_start=5)"
   ]
  },
  {
   "cell_type": "code",
   "execution_count": 8,
   "id": "ad48c1bb-bc14-4228-b4f5-d3922750f879",
   "metadata": {
    "tags": []
   },
   "outputs": [
    {
     "data": {
      "text/plain": [
       "<Axes: >"
      ]
     },
     "execution_count": 8,
     "metadata": {},
     "output_type": "execute_result"
    },
    {
     "data": {
      "image/png": "[encoded data removed]",
      "text/plain": [
       "<Figure size 640x480 with 1 Axes>"
      ]
     },
     "metadata": {},
     "output_type": "display_data"
    }
   ],
   "source": [
    "map_data.plot(column='year', cmap='plasma')"
   ]
  },
  {
   "cell_type": "code",
   "execution_count": 9,
   "id": "137e99c0-c014-46b1-ab5c-f506a9482c08",
   "metadata": {},
   "outputs": [],
   "source": [
    "municipios = \"./media/media/prueba.json\""
   ]
  },
  {
   "cell_type": "code",
   "execution_count": 10,
   "id": "7d96619c-d0d8-4078-9f3e-09a2402ea3f2",
   "metadata": {
    "tags": []
   },
   "outputs": [],
   "source": [
    "map_datmun = gpd.read_file(municipios)"
   ]
  },
  {
   "cell_type": "code",
   "execution_count": 12,
   "id": "0f05220c-a2a8-4dba-ab16-f4205f28f9f8",
   "metadata": {
    "tags": []
   },
   "outputs": [
    {
     "data": {
      "text/html": [
       "<div>\n",
       "<style scoped>\n",
       "    .dataframe tbody tr th:only-of-type {\n",
       "        vertical-align: middle;\n",
       "    }\n",
       "\n",
       "    .dataframe tbody tr th {\n",
       "        vertical-align: top;\n",
       "    }\n",
       "\n",
       "    .dataframe thead th {\n",
       "        text-align: right;\n",
       "    }\n",
       "</style>\n",
       "<table border=\"1\" class=\"dataframe\">\n",
       "  <thead>\n",
       "    <tr style=\"text-align: right;\">\n",
       "      <th></th>\n",
       "      <th>geo_point_2d</th>\n",
       "      <th>year</th>\n",
       "      <th>sta_code</th>\n",
       "      <th>sta_name</th>\n",
       "      <th>mun_code</th>\n",
       "      <th>mun_name</th>\n",
       "      <th>mun_area_code</th>\n",
       "      <th>mun_type</th>\n",
       "      <th>geometry</th>\n",
       "    </tr>\n",
       "  </thead>\n",
       "  <tbody>\n",
       "    <tr>\n",
       "      <th>0</th>\n",
       "      <td>{'lon': -102.04563758129586, 'lat': 22.1265069...</td>\n",
       "      <td>2022</td>\n",
       "      <td>[01]</td>\n",
       "      <td>[Aguascalientes]</td>\n",
       "      <td>[01002]</td>\n",
       "      <td>[Asientos]</td>\n",
       "      <td>MEX</td>\n",
       "      <td>municipio</td>\n",
       "      <td>POLYGON ((-102.04348 22.29392, -102.04407 22.2...</td>\n",
       "    </tr>\n",
       "    <tr>\n",
       "      <th>1</th>\n",
       "      <td>{'lon': -102.22901726899903, 'lat': 22.0330721...</td>\n",
       "      <td>2022</td>\n",
       "      <td>[01]</td>\n",
       "      <td>[Aguascalientes]</td>\n",
       "      <td>[01011]</td>\n",
       "      <td>[San Francisco de los Romo]</td>\n",
       "      <td>MEX</td>\n",
       "      <td>municipio</td>\n",
       "      <td>POLYGON ((-102.14088 22.07534, -102.14368 22.0...</td>\n",
       "    </tr>\n",
       "    <tr>\n",
       "      <th>2</th>\n",
       "      <td>{'lon': -102.44564622304819, 'lat': 21.9321191...</td>\n",
       "      <td>2022</td>\n",
       "      <td>[01]</td>\n",
       "      <td>[Aguascalientes]</td>\n",
       "      <td>[01005]</td>\n",
       "      <td>[Jesús María]</td>\n",
       "      <td>MEX</td>\n",
       "      <td>municipio</td>\n",
       "      <td>POLYGON ((-102.31034 22.03716, -102.31938 22.0...</td>\n",
       "    </tr>\n",
       "    <tr>\n",
       "      <th>3</th>\n",
       "      <td>{'lon': -102.7049048116927, 'lat': 21.90069519...</td>\n",
       "      <td>2022</td>\n",
       "      <td>[01]</td>\n",
       "      <td>[Aguascalientes]</td>\n",
       "      <td>[01003]</td>\n",
       "      <td>[Calvillo]</td>\n",
       "      <td>MEX</td>\n",
       "      <td>municipio</td>\n",
       "      <td>POLYGON ((-102.57625 21.96778, -102.58183 21.9...</td>\n",
       "    </tr>\n",
       "    <tr>\n",
       "      <th>4</th>\n",
       "      <td>{'lon': -102.19212909312763, 'lat': 22.2369720...</td>\n",
       "      <td>2022</td>\n",
       "      <td>[01]</td>\n",
       "      <td>[Aguascalientes]</td>\n",
       "      <td>[01009]</td>\n",
       "      <td>[Tepezalá]</td>\n",
       "      <td>MEX</td>\n",
       "      <td>municipio</td>\n",
       "      <td>POLYGON ((-102.16213 22.34851, -102.18072 22.3...</td>\n",
       "    </tr>\n",
       "  </tbody>\n",
       "</table>\n",
       "</div>"
      ],
      "text/plain": [
       "                                        geo_point_2d  year sta_code  \\\n",
       "0  {'lon': -102.04563758129586, 'lat': 22.1265069...  2022     [01]   \n",
       "1  {'lon': -102.22901726899903, 'lat': 22.0330721...  2022     [01]   \n",
       "2  {'lon': -102.44564622304819, 'lat': 21.9321191...  2022     [01]   \n",
       "3  {'lon': -102.7049048116927, 'lat': 21.90069519...  2022     [01]   \n",
       "4  {'lon': -102.19212909312763, 'lat': 22.2369720...  2022     [01]   \n",
       "\n",
       "           sta_name mun_code                     mun_name mun_area_code  \\\n",
       "0  [Aguascalientes]  [01002]                   [Asientos]           MEX   \n",
       "1  [Aguascalientes]  [01011]  [San Francisco de los Romo]           MEX   \n",
       "2  [Aguascalientes]  [01005]                [Jesús María]           MEX   \n",
       "3  [Aguascalientes]  [01003]                   [Calvillo]           MEX   \n",
       "4  [Aguascalientes]  [01009]                   [Tepezalá]           MEX   \n",
       "\n",
       "    mun_type                                           geometry  \n",
       "0  municipio  POLYGON ((-102.04348 22.29392, -102.04407 22.2...  \n",
       "1  municipio  POLYGON ((-102.14088 22.07534, -102.14368 22.0...  \n",
       "2  municipio  POLYGON ((-102.31034 22.03716, -102.31938 22.0...  \n",
       "3  municipio  POLYGON ((-102.57625 21.96778, -102.58183 21.9...  \n",
       "4  municipio  POLYGON ((-102.16213 22.34851, -102.18072 22.3...  "
      ]
     },
     "execution_count": 12,
     "metadata": {},
     "output_type": "execute_result"
    }
   ],
   "source": [
    "map_data.head()"
   ]
  },
  {
   "cell_type": "code",
   "execution_count": null,
   "id": "a6b94da5-0bd5-4f7e-9e8a-30643805e5b0",
   "metadata": {},
   "outputs": [],
   "source": []
  }
 ],
 "metadata": {
  "kernelspec": {
   "display_name": "Python 3 (ipykernel)",
   "language": "python",
   "name": "python3"
  },
  "language_info": {
   "codemirror_mode": {
    "name": "ipython",
    "version": 3
   },
   "file_extension": ".py",
   "mimetype": "text/x-python",
   "name": "python",
   "nbconvert_exporter": "python",
   "pygments_lexer": "ipython3",
   "version": "3.9.9"
  }
 },
 "nbformat": 4,
 "nbformat_minor": 5
}
