{
 "cells": [
  {
   "cell_type": "code",
   "execution_count": null,
   "id": "0b93dfa6-fe99-4bc1-bb4e-16f04c362b86",
   "metadata": {},
   "outputs": [],
   "source": [
    "usa = gpd.read_file(\"maps/cb_2018_us_state_20m.shp\")\n",
    "usa.head()"
   ]
  }
 ],
 "metadata": {
  "kernelspec": {
   "display_name": "Python 3 (ipykernel)",
   "language": "python",
   "name": "python3"
  },
  "language_info": {
   "codemirror_mode": {
    "name": "ipython",
    "version": 3
   },
   "file_extension": ".py",
   "mimetype": "text/x-python",
   "name": "python",
   "nbconvert_exporter": "python",
   "pygments_lexer": "ipython3",
   "version": "3.9.9"
  }
 },
 "nbformat": 4,
 "nbformat_minor": 5
}
